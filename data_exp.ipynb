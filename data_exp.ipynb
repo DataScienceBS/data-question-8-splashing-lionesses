{
 "cells": [
  {
   "cell_type": "code",
   "execution_count": 1,
   "metadata": {},
   "outputs": [],
   "source": [
    "import pandas as pd\n",
    "from collections import Counter \n",
    "from nltk.tokenize import word_tokenize\n",
    "from nltk.stem import WordNetLemmatizer\n",
    "from nltk.corpus import stopwords\n",
    "from nltk.util import ngrams"
   ]
  },
  {
   "cell_type": "markdown",
   "metadata": {},
   "source": [
    "### Reading in the data"
   ]
  },
  {
   "cell_type": "code",
   "execution_count": 2,
   "metadata": {},
   "outputs": [
    {
     "data": {
      "text/html": [
       "<div>\n",
       "<style scoped>\n",
       "    .dataframe tbody tr th:only-of-type {\n",
       "        vertical-align: middle;\n",
       "    }\n",
       "\n",
       "    .dataframe tbody tr th {\n",
       "        vertical-align: top;\n",
       "    }\n",
       "\n",
       "    .dataframe thead th {\n",
       "        text-align: right;\n",
       "    }\n",
       "</style>\n",
       "<table border=\"1\" class=\"dataframe\">\n",
       "  <thead>\n",
       "    <tr style=\"text-align: right;\">\n",
       "      <th></th>\n",
       "      <th>ticker</th>\n",
       "      <th>accession_number</th>\n",
       "    </tr>\n",
       "  </thead>\n",
       "  <tbody>\n",
       "    <tr>\n",
       "      <th>0</th>\n",
       "      <td>ACAD</td>\n",
       "      <td>0001564590-18-003526</td>\n",
       "    </tr>\n",
       "    <tr>\n",
       "      <th>1</th>\n",
       "      <td>ACC</td>\n",
       "      <td>0001283630-18-000024</td>\n",
       "    </tr>\n",
       "    <tr>\n",
       "      <th>2</th>\n",
       "      <td>AFSI</td>\n",
       "      <td>0001365555-18-000052</td>\n",
       "    </tr>\n",
       "    <tr>\n",
       "      <th>3</th>\n",
       "      <td>AHL</td>\n",
       "      <td>0001267395-18-000024</td>\n",
       "    </tr>\n",
       "    <tr>\n",
       "      <th>4</th>\n",
       "      <td>AKRX</td>\n",
       "      <td>0001628280-18-002518</td>\n",
       "    </tr>\n",
       "  </tbody>\n",
       "</table>\n",
       "</div>"
      ],
      "text/plain": [
       "  ticker      accession_number\n",
       "0   ACAD  0001564590-18-003526\n",
       "1    ACC  0001283630-18-000024\n",
       "2   AFSI  0001365555-18-000052\n",
       "3    AHL  0001267395-18-000024\n",
       "4   AKRX  0001628280-18-002518"
      ]
     },
     "execution_count": 2,
     "metadata": {},
     "output_type": "execute_result"
    }
   ],
   "source": [
    "filings = pd.read_csv('data/nc_validation_filings.csv')\n",
    "filings.head()"
   ]
  },
  {
   "cell_type": "code",
   "execution_count": 3,
   "metadata": {},
   "outputs": [
    {
     "data": {
      "text/html": [
       "<div>\n",
       "<style scoped>\n",
       "    .dataframe tbody tr th:only-of-type {\n",
       "        vertical-align: middle;\n",
       "    }\n",
       "\n",
       "    .dataframe tbody tr th {\n",
       "        vertical-align: top;\n",
       "    }\n",
       "\n",
       "    .dataframe thead th {\n",
       "        text-align: right;\n",
       "    }\n",
       "</style>\n",
       "<table border=\"1\" class=\"dataframe\">\n",
       "  <thead>\n",
       "    <tr style=\"text-align: right;\">\n",
       "      <th></th>\n",
       "      <th>ticker</th>\n",
       "      <th>accession_number</th>\n",
       "      <th>data_key_friendly_name</th>\n",
       "      <th>text</th>\n",
       "      <th>data_value</th>\n",
       "      <th>reported_data_value</th>\n",
       "      <th>reported_units</th>\n",
       "      <th>paragraph_text</th>\n",
       "    </tr>\n",
       "  </thead>\n",
       "  <tbody>\n",
       "    <tr>\n",
       "      <th>15</th>\n",
       "      <td>AAPL</td>\n",
       "      <td>0000320193-17-000070</td>\n",
       "      <td>Share Repurchase Authorization</td>\n",
       "      <td>share repurchase authorization</td>\n",
       "      <td>210000000000</td>\n",
       "      <td>210.0</td>\n",
       "      <td>billions</td>\n",
       "      <td>Share Repurchase Program   In May 2017, the Co...</td>\n",
       "    </tr>\n",
       "    <tr>\n",
       "      <th>16</th>\n",
       "      <td>AAPL</td>\n",
       "      <td>0000320193-17-000070</td>\n",
       "      <td>Share Repurchase Utilization</td>\n",
       "      <td>utilized</td>\n",
       "      <td>166000000000</td>\n",
       "      <td>166.0</td>\n",
       "      <td>billions</td>\n",
       "      <td>Share Repurchase Program   In May 2017, the Co...</td>\n",
       "    </tr>\n",
       "    <tr>\n",
       "      <th>17</th>\n",
       "      <td>AAPL</td>\n",
       "      <td>0000320193-17-000070</td>\n",
       "      <td>Amount Spent on Share Repurchases</td>\n",
       "      <td>Total open market common stock repurchases</td>\n",
       "      <td>18001000000</td>\n",
       "      <td>18001.0</td>\n",
       "      <td>millions</td>\n",
       "      <td>Number of         Average                     ...</td>\n",
       "    </tr>\n",
       "    <tr>\n",
       "      <th>18</th>\n",
       "      <td>AAPL</td>\n",
       "      <td>0000320193-17-000070</td>\n",
       "      <td>Amount Spent on Share Repurchases</td>\n",
       "      <td>February 2017 ASR</td>\n",
       "      <td>3000000000</td>\n",
       "      <td>3000.0</td>\n",
       "      <td>millions</td>\n",
       "      <td>Number of             Average           ASR   ...</td>\n",
       "    </tr>\n",
       "    <tr>\n",
       "      <th>19</th>\n",
       "      <td>AAPL</td>\n",
       "      <td>0000320193-17-000070</td>\n",
       "      <td>Share Repurchase Count</td>\n",
       "      <td>May 2017 ASR</td>\n",
       "      <td>20108000</td>\n",
       "      <td>20108.0</td>\n",
       "      <td>thousands</td>\n",
       "      <td>Number of             Average           ASR   ...</td>\n",
       "    </tr>\n",
       "    <tr>\n",
       "      <th>20</th>\n",
       "      <td>AAPL</td>\n",
       "      <td>0000320193-17-000070</td>\n",
       "      <td>Share Repurchase Count</td>\n",
       "      <td>August 2017 ASR</td>\n",
       "      <td>15069000</td>\n",
       "      <td>15069.0</td>\n",
       "      <td>thousands</td>\n",
       "      <td>Number of             Average           ASR   ...</td>\n",
       "    </tr>\n",
       "    <tr>\n",
       "      <th>21</th>\n",
       "      <td>AAPL</td>\n",
       "      <td>0000320193-17-000070</td>\n",
       "      <td>Share Repurchase Count</td>\n",
       "      <td>Total open market common stock repurchases</td>\n",
       "      <td>134832000</td>\n",
       "      <td>134832.0</td>\n",
       "      <td>thousands</td>\n",
       "      <td>Number of         Average                     ...</td>\n",
       "    </tr>\n",
       "    <tr>\n",
       "      <th>22</th>\n",
       "      <td>AAPL</td>\n",
       "      <td>0000320193-17-000070</td>\n",
       "      <td>Share Repurchase Count</td>\n",
       "      <td>November 2016 ASR</td>\n",
       "      <td>51157000</td>\n",
       "      <td>51157.0</td>\n",
       "      <td>thousands</td>\n",
       "      <td>Number of             Average           ASR   ...</td>\n",
       "    </tr>\n",
       "    <tr>\n",
       "      <th>23</th>\n",
       "      <td>AAPL</td>\n",
       "      <td>0000320193-17-000070</td>\n",
       "      <td>Share Repurchase Count</td>\n",
       "      <td>February 2017 ASR</td>\n",
       "      <td>20949000</td>\n",
       "      <td>20949.0</td>\n",
       "      <td>thousands</td>\n",
       "      <td>Number of             Average           ASR   ...</td>\n",
       "    </tr>\n",
       "    <tr>\n",
       "      <th>24</th>\n",
       "      <td>AAPL</td>\n",
       "      <td>0000320193-17-000070</td>\n",
       "      <td>Share Repurchase Intention</td>\n",
       "      <td>Total</td>\n",
       "      <td>44023000000</td>\n",
       "      <td>44023.0</td>\n",
       "      <td>millions</td>\n",
       "      <td>Total Number of        Approximate Dollar Valu...</td>\n",
       "    </tr>\n",
       "    <tr>\n",
       "      <th>25</th>\n",
       "      <td>AAPL</td>\n",
       "      <td>0000320193-17-000070</td>\n",
       "      <td>Share Repurchase Authorization Date</td>\n",
       "      <td>May 2017</td>\n",
       "      <td>20170515</td>\n",
       "      <td>20200000.0</td>\n",
       "      <td>ones</td>\n",
       "      <td>Share Repurchase Program   In May 2017, the Co...</td>\n",
       "    </tr>\n",
       "    <tr>\n",
       "      <th>26</th>\n",
       "      <td>AAPL</td>\n",
       "      <td>0000320193-17-000070</td>\n",
       "      <td>Amount Spent on Share Repurchases</td>\n",
       "      <td>May 2017 ASR</td>\n",
       "      <td>3000000000</td>\n",
       "      <td>3000.0</td>\n",
       "      <td>millions</td>\n",
       "      <td>Number of             Average           ASR   ...</td>\n",
       "    </tr>\n",
       "    <tr>\n",
       "      <th>27</th>\n",
       "      <td>AAPL</td>\n",
       "      <td>0000320193-17-000070</td>\n",
       "      <td>Amount Spent on Share Repurchases</td>\n",
       "      <td>November 2016 ASR</td>\n",
       "      <td>6000000000</td>\n",
       "      <td>6000.0</td>\n",
       "      <td>millions</td>\n",
       "      <td>Number of             Average           ASR   ...</td>\n",
       "    </tr>\n",
       "    <tr>\n",
       "      <th>28</th>\n",
       "      <td>AAPL</td>\n",
       "      <td>0000320193-17-000070</td>\n",
       "      <td>Amount Spent on Share Repurchases</td>\n",
       "      <td>August 2017 ASR</td>\n",
       "      <td>3000000000</td>\n",
       "      <td>3000.0</td>\n",
       "      <td>millions</td>\n",
       "      <td>Number of             Average           ASR   ...</td>\n",
       "    </tr>\n",
       "  </tbody>\n",
       "</table>\n",
       "</div>"
      ],
      "text/plain": [
       "   ticker      accession_number               data_key_friendly_name  \\\n",
       "15   AAPL  0000320193-17-000070       Share Repurchase Authorization   \n",
       "16   AAPL  0000320193-17-000070         Share Repurchase Utilization   \n",
       "17   AAPL  0000320193-17-000070    Amount Spent on Share Repurchases   \n",
       "18   AAPL  0000320193-17-000070    Amount Spent on Share Repurchases   \n",
       "19   AAPL  0000320193-17-000070               Share Repurchase Count   \n",
       "20   AAPL  0000320193-17-000070               Share Repurchase Count   \n",
       "21   AAPL  0000320193-17-000070               Share Repurchase Count   \n",
       "22   AAPL  0000320193-17-000070               Share Repurchase Count   \n",
       "23   AAPL  0000320193-17-000070               Share Repurchase Count   \n",
       "24   AAPL  0000320193-17-000070           Share Repurchase Intention   \n",
       "25   AAPL  0000320193-17-000070  Share Repurchase Authorization Date   \n",
       "26   AAPL  0000320193-17-000070    Amount Spent on Share Repurchases   \n",
       "27   AAPL  0000320193-17-000070    Amount Spent on Share Repurchases   \n",
       "28   AAPL  0000320193-17-000070    Amount Spent on Share Repurchases   \n",
       "\n",
       "                                          text    data_value  \\\n",
       "15              share repurchase authorization  210000000000   \n",
       "16                                    utilized  166000000000   \n",
       "17  Total open market common stock repurchases   18001000000   \n",
       "18                           February 2017 ASR    3000000000   \n",
       "19                                May 2017 ASR      20108000   \n",
       "20                             August 2017 ASR      15069000   \n",
       "21  Total open market common stock repurchases     134832000   \n",
       "22                           November 2016 ASR      51157000   \n",
       "23                           February 2017 ASR      20949000   \n",
       "24                                       Total   44023000000   \n",
       "25                                    May 2017      20170515   \n",
       "26                                May 2017 ASR    3000000000   \n",
       "27                           November 2016 ASR    6000000000   \n",
       "28                             August 2017 ASR    3000000000   \n",
       "\n",
       "    reported_data_value reported_units  \\\n",
       "15                210.0       billions   \n",
       "16                166.0       billions   \n",
       "17              18001.0       millions   \n",
       "18               3000.0       millions   \n",
       "19              20108.0      thousands   \n",
       "20              15069.0      thousands   \n",
       "21             134832.0      thousands   \n",
       "22              51157.0      thousands   \n",
       "23              20949.0      thousands   \n",
       "24              44023.0       millions   \n",
       "25           20200000.0           ones   \n",
       "26               3000.0       millions   \n",
       "27               6000.0       millions   \n",
       "28               3000.0       millions   \n",
       "\n",
       "                                       paragraph_text  \n",
       "15  Share Repurchase Program   In May 2017, the Co...  \n",
       "16  Share Repurchase Program   In May 2017, the Co...  \n",
       "17  Number of         Average                     ...  \n",
       "18  Number of             Average           ASR   ...  \n",
       "19  Number of             Average           ASR   ...  \n",
       "20  Number of             Average           ASR   ...  \n",
       "21  Number of         Average                     ...  \n",
       "22  Number of             Average           ASR   ...  \n",
       "23  Number of             Average           ASR   ...  \n",
       "24  Total Number of        Approximate Dollar Valu...  \n",
       "25  Share Repurchase Program   In May 2017, the Co...  \n",
       "26  Number of             Average           ASR   ...  \n",
       "27  Number of             Average           ASR   ...  \n",
       "28  Number of             Average           ASR   ...  "
      ]
     },
     "execution_count": 3,
     "metadata": {},
     "output_type": "execute_result"
    }
   ],
   "source": [
    "purchase = pd.read_csv('data/share_repurchase_paragraphs.csv')\n",
    "aapl = purchase[purchase['ticker'] == 'AAPL']\n",
    "aapl"
   ]
  },
  {
   "cell_type": "markdown",
   "metadata": {},
   "source": [
    "### Exploratory Data Analysis"
   ]
  },
  {
   "cell_type": "code",
   "execution_count": 4,
   "metadata": {
    "scrolled": true
   },
   "outputs": [
    {
     "data": {
      "text/plain": [
       "1       The 2015 share repurchase program authorizes t...\n",
       "6                   share repurchase programs aggregating\n",
       "13                                     repurchase program\n",
       "15                         share repurchase authorization\n",
       "32                                             authorized\n",
       "34      the Company's board of directors authorized a ...\n",
       "38                          authorization was in addition\n",
       "39                              authorized the repurchase\n",
       "46                                             repurchase\n",
       "50      In the aggregate, the Board of Directors has a...\n",
       "58          total stock repurchase authorization of up to\n",
       "80              the Company's Board of Directors approved\n",
       "87      our Board of Directors authorized an additiona...\n",
       "94      publicly announced share repurchase authorizat...\n",
       "100                   the Board of Directors authorized a\n",
       "109     we announced that our Board of Directors had a...\n",
       "115                   the Board of Directors authorized a\n",
       "122                            the Board authorized a new\n",
       "125     the Company's Board of Directors approved a ne...\n",
       "129     our Board of Directors authorized the future a...\n",
       "133     Applied's Board of Directors approved a common...\n",
       "135     Applied's Board of Directors approved an addit...\n",
       "142     authorization for the repurchase of the Compan...\n",
       "148                                authorized an increase\n",
       "149                              authorized an additional\n",
       "152     we announced that our Board of Directors autho...\n",
       "158     the Board of Directors approved an additional ...\n",
       "160     the Company's Board of Directors approved a st...\n",
       "161                    authorized a program to repurchase\n",
       "163                          the Board approved a further\n",
       "                              ...                        \n",
       "1646    Board of Directors authorized a share repurcha...\n",
       "1650                                           authorized\n",
       "1661                       share repurchase authorization\n",
       "1662                             stock repurchase program\n",
       "1665    board of directors authorized our purchase of ...\n",
       "1671      the Company has authorized repurchases of up to\n",
       "1674              total repurchase authorization of up to\n",
       "1681    Our Board of Directors has authorized a share ...\n",
       "1688    the Company's Board of Directors authorized th...\n",
       "1689    Walgreens Boots Alliance authorized a new stoc...\n",
       "1690    Walgreens Boots Alliance expanded this stock r...\n",
       "1695                   The Company's Board has authorized\n",
       "1701    our Board of Directors authorized a new share ...\n",
       "1703    our Board of Directors authorized an additiona...\n",
       "1707    increase is in addition to the remaining autho...\n",
       "1710    the board of directors approved an increase to...\n",
       "1713     that the Board of Directors has authorized up to\n",
       "1716                             share repurchase program\n",
       "1726                    the Board of Directors authorized\n",
       "1732    our board of directors approved a stock repurc...\n",
       "1737    the total authorization of the current program...\n",
       "1738               repurchase authority under the program\n",
       "1746                    authorizing the purchase of up to\n",
       "1749         the Board authorized the repurchase of up to\n",
       "1759                 Authorized share repurchase programs\n",
       "1765    our Board of Directors authorized the repurcha...\n",
       "1769    our Board of Directors authorized share repurc...\n",
       "1774                  our Board of Directors authorized a\n",
       "1779        the company's Board of Directors authorized a\n",
       "1780    the company's Board of Directors authorized an...\n",
       "Name: text, Length: 369, dtype: object"
      ]
     },
     "execution_count": 4,
     "metadata": {},
     "output_type": "execute_result"
    }
   ],
   "source": [
    "text = purchase[purchase[\"data_key_friendly_name\"] == 'Share Repurchase Authorization'].text\n",
    "text"
   ]
  },
  {
   "cell_type": "code",
   "execution_count": 5,
   "metadata": {},
   "outputs": [
    {
     "data": {
      "text/plain": [
       "array(['Share Repurchase Authorization Date',\n",
       "       'Share Repurchase Authorization', 'Share Repurchase Intention',\n",
       "       'Share Repurchase Count', 'Amount Spent on Share Repurchases',\n",
       "       'Share Repurchase Utilization', 'Unknown Share Repurchase Data'], dtype=object)"
      ]
     },
     "execution_count": 5,
     "metadata": {},
     "output_type": "execute_result"
    }
   ],
   "source": [
    "key_text = purchase[\"data_key_friendly_name\"].unique()\n",
    "key_text"
   ]
  },
  {
   "cell_type": "markdown",
   "metadata": {},
   "source": [
    "### Processing the Data : Tokenizing, lowercasing and removing stop words for each of the data_key_friendly_name and picking the most common words"
   ]
  },
  {
   "cell_type": "code",
   "execution_count": 6,
   "metadata": {},
   "outputs": [
    {
     "data": {
      "text/plain": [
       "[('repurchase', 260),\n",
       " ('board', 227),\n",
       " ('authorized', 202),\n",
       " ('directors', 188),\n",
       " ('program', 126),\n",
       " ('company', 93),\n",
       " ('share', 78),\n",
       " (\"'s\", 66),\n",
       " ('approved', 63),\n",
       " ('stock', 54),\n",
       " ('additional', 52),\n",
       " ('authorization', 50),\n",
       " (',', 42),\n",
       " ('new', 37),\n",
       " ('announced', 31),\n",
       " ('purchase', 29),\n",
       " ('common', 25),\n",
       " ('aggregate', 19),\n",
       " ('authorizing', 18),\n",
       " ('total', 16)]"
      ]
     },
     "execution_count": 6,
     "metadata": {},
     "output_type": "execute_result"
    }
   ],
   "source": [
    "tokens =   [word_tokenize(t.lower()) for t in text]\n",
    "def flatten(lst):\n",
    "    return sum( ([x] if not isinstance(x, list) else flatten(x)\n",
    "         for x in lst), [] )\n",
    "list_tokens = flatten(tokens)\n",
    "english_stops = set(stopwords.words('english'))\n",
    "no_stops = [t for t in list_tokens if t not in english_stops]\n",
    "repurchase_text = Counter(no_stops)  \n",
    "repurchase_text.most_common(20)\n",
    "\n"
   ]
  },
  {
   "cell_type": "code",
   "execution_count": 7,
   "metadata": {
    "scrolled": true
   },
   "outputs": [
    {
     "data": {
      "text/plain": [
       "1     On May 28, 2015 we  announced that our board  ...\n",
       "6     4. Share Repurchase Programs and Dividends   S...\n",
       "13    The Company's stock repurchase program allows ...\n",
       "15    Share Repurchase Program   In May 2017, the Co...\n",
       "32    On February 15, 2018, AbbVie's board of direct...\n",
       "Name: paragraph_text, dtype: object"
      ]
     },
     "execution_count": 7,
     "metadata": {},
     "output_type": "execute_result"
    }
   ],
   "source": [
    "para_text = purchase[purchase[\"data_key_friendly_name\"] == 'Share Repurchase Authorization'].paragraph_text\n",
    "para_text.head()"
   ]
  },
  {
   "cell_type": "code",
   "execution_count": 8,
   "metadata": {},
   "outputs": [],
   "source": [
    "# alpha_token =  [t for t in list_tokens if t.isalpha()]\n",
    "# alpha_token"
   ]
  },
  {
   "cell_type": "code",
   "execution_count": 9,
   "metadata": {},
   "outputs": [
    {
     "data": {
      "text/plain": [
       "[(',', 2207),\n",
       " ('$', 1063),\n",
       " ('repurchase', 1046),\n",
       " ('stock', 788),\n",
       " ('program', 759),\n",
       " ('.', 728),\n",
       " ('2017', 573),\n",
       " ('common', 548),\n",
       " ('board', 529),\n",
       " ('company', 525),\n",
       " ('million', 522),\n",
       " ('share', 511),\n",
       " ('billion', 501),\n",
       " ('shares', 491),\n",
       " ('directors', 441),\n",
       " ('authorized', 412),\n",
       " (\"'s\", 349),\n",
       " ('2016', 256),\n",
       " ('december', 254),\n",
       " ('repurchases', 244)]"
      ]
     },
     "execution_count": 9,
     "metadata": {},
     "output_type": "execute_result"
    }
   ],
   "source": [
    "para_tokens =   [word_tokenize(t.lower()) for t in para_text]\n",
    "def flatten(lst):\n",
    "    return sum( ([x] if not isinstance(x, list) else flatten(x)\n",
    "         for x in lst), [] )\n",
    "list_tokens = flatten(para_tokens)\n",
    "english_stops = set(stopwords.words('english'))\n",
    "no_stops = [t for t in list_tokens if t not in english_stops]\n",
    "repurchase_para = Counter(no_stops)  \n",
    "repurchase_para.most_common(20)\n"
   ]
  },
  {
   "cell_type": "code",
   "execution_count": 10,
   "metadata": {},
   "outputs": [],
   "source": [
    "intent_text = purchase[purchase[\"data_key_friendly_name\"] == 'Share Repurchase Intention'].text\n",
    "util_text = purchase[purchase[\"data_key_friendly_name\"] == 'Share Repurchase Utilization'].text\n",
    "unk_repurchase_text = purchase[purchase[\"data_key_friendly_name\"] == 'Unknown Share Repurchase Data'].text\n"
   ]
  },
  {
   "cell_type": "code",
   "execution_count": 11,
   "metadata": {},
   "outputs": [],
   "source": [
    "# bag_repurchase = ['Board', 'Directors','authoriz','purchase','approve','program']"
   ]
  },
  {
   "cell_type": "code",
   "execution_count": 12,
   "metadata": {},
   "outputs": [
    {
     "data": {
      "text/plain": [
       "[('repurchase', 104),\n",
       " ('2017', 76),\n",
       " (',', 72),\n",
       " ('program', 62),\n",
       " ('remaining', 58),\n",
       " ('december', 49),\n",
       " ('authorization', 44),\n",
       " ('available', 40),\n",
       " ('31', 39),\n",
       " ('share', 38),\n",
       " ('remained', 34),\n",
       " ('board', 34),\n",
       " ('authorized', 34),\n",
       " ('stock', 29),\n",
       " ('total', 26),\n",
       " ('company', 22),\n",
       " ('directors', 22),\n",
       " ('1', 21),\n",
       " ('-', 17),\n",
       " ('common', 16)]"
      ]
     },
     "execution_count": 12,
     "metadata": {},
     "output_type": "execute_result"
    }
   ],
   "source": [
    "intent_tokens =   [word_tokenize(t.lower()) for t in intent_text]\n",
    "def flatten(lst):\n",
    "    return sum( ([x] if not isinstance(x, list) else flatten(x)\n",
    "         for x in lst), [] )\n",
    "list_tokens = flatten(intent_tokens)\n",
    "english_stops = set(stopwords.words('english'))\n",
    "no_stops = [t for t in list_tokens if t not in english_stops]\n",
    "intent_text = Counter(no_stops)  \n",
    "intent_text.most_common(20)"
   ]
  },
  {
   "cell_type": "code",
   "execution_count": 13,
   "metadata": {},
   "outputs": [
    {
     "data": {
      "text/plain": [
       "[('repurchased', 14),\n",
       " ('total', 12),\n",
       " (',', 12),\n",
       " ('cost', 11),\n",
       " ('aggregate', 9),\n",
       " ('2017', 8),\n",
       " ('company', 7),\n",
       " ('approximately', 5),\n",
       " ('program', 5),\n",
       " ('repurchase', 5),\n",
       " ('december', 4),\n",
       " ('purchased', 4),\n",
       " ('share', 4),\n",
       " ('shares', 3),\n",
       " ('31', 3),\n",
       " ('authorization', 3),\n",
       " ('inception', 2),\n",
       " ('amount', 2),\n",
       " ('board', 2),\n",
       " ('directors', 2)]"
      ]
     },
     "execution_count": 13,
     "metadata": {},
     "output_type": "execute_result"
    }
   ],
   "source": [
    "util_tokens =   [word_tokenize(t.lower()) for t in util_text]\n",
    "def flatten(lst):\n",
    "    return sum( ([x] if not isinstance(x, list) else flatten(x)\n",
    "         for x in lst), [] )\n",
    "list_tokens = flatten(util_tokens)\n",
    "english_stops = set(stopwords.words('english'))\n",
    "no_stops = [t for t in list_tokens if t not in english_stops]\n",
    "util_text = Counter(no_stops)  \n",
    "util_text.most_common(20)"
   ]
  },
  {
   "cell_type": "code",
   "execution_count": 14,
   "metadata": {},
   "outputs": [
    {
     "data": {
      "text/plain": [
       "[('repurchase', 79),\n",
       " ('board', 58),\n",
       " ('authorized', 56),\n",
       " ('directors', 53),\n",
       " ('program', 31),\n",
       " ('company', 27),\n",
       " ('shares', 25),\n",
       " (\"'s\", 21),\n",
       " ('authorization', 18),\n",
       " ('share', 15),\n",
       " (',', 13),\n",
       " ('approved', 12),\n",
       " ('available', 12),\n",
       " ('purchase', 12),\n",
       " ('repurchased', 11),\n",
       " ('total', 11),\n",
       " ('december', 11),\n",
       " ('2017', 9),\n",
       " ('stock', 9),\n",
       " ('additional', 8)]"
      ]
     },
     "execution_count": 14,
     "metadata": {},
     "output_type": "execute_result"
    }
   ],
   "source": [
    "unk_tokens =   [word_tokenize(t.lower()) for t in unk_repurchase_text]\n",
    "def flatten(lst):\n",
    "    return sum( ([x] if not isinstance(x, list) else flatten(x)\n",
    "         for x in lst), [] )\n",
    "list_tokens = flatten(unk_tokens)\n",
    "english_stops = set(stopwords.words('english'))\n",
    "no_stops = [t for t in list_tokens if t not in english_stops]\n",
    "unk_text = Counter(no_stops)  \n",
    "unk_text.most_common(20)"
   ]
  },
  {
   "cell_type": "markdown",
   "metadata": {},
   "source": [
    "### ngrams NLP analysis for data_key_friendly_name text field"
   ]
  },
  {
   "cell_type": "code",
   "execution_count": 15,
   "metadata": {},
   "outputs": [
    {
     "name": "stderr",
     "output_type": "stream",
     "text": [
      "/anaconda3/lib/python3.6/site-packages/ipykernel_launcher.py:4: DeprecationWarning: generator 'ngrams' raised StopIteration\n",
      "  after removing the cwd from sys.path.\n"
     ]
    }
   ],
   "source": [
    "    \n",
    "def get_ngrams(text, n ):\n",
    "        n_grams = ngrams(word_tokenize(t.lower()), n)\n",
    "        return [ ' '.join(grams) for grams in n_grams]\n",
    "ngrams_text = []    \n",
    "for t in text:\n",
    "        ngrams_text.append(get_ngrams(t, 3 )) \n",
    "# bigrams_text\n",
    "list_ngrams = flatten(ngrams_text)\n",
    "english_stops = set(stopwords.words('english'))\n",
    "no_stops = [t for t in list_ngrams if t not in english_stops]\n",
    "repurchase_text_tri = Counter(no_stops)  \n"
   ]
  },
  {
   "cell_type": "markdown",
   "metadata": {},
   "source": [
    "### Creating a Dictionary"
   ]
  },
  {
   "cell_type": "code",
   "execution_count": 16,
   "metadata": {
    "scrolled": true
   },
   "outputs": [
    {
     "data": {
      "text/plain": [
       "dict_keys(['board of directors', 'of directors authorized', 'of up to', 'our board of', 'the repurchase of', \"'s board of\", 'share repurchase program', \"the company 's\", 'the board of', 'of directors approved', 'authorized the repurchase', \"company 's board\", 'directors authorized a', 'repurchase up to', 'repurchase of up', 'directors authorized the', 'to repurchase up', 'directors approved a', 'stock repurchase program', 'authorized a new'])"
      ]
     },
     "execution_count": 16,
     "metadata": {},
     "output_type": "execute_result"
    }
   ],
   "source": [
    "trigram_dict = dict(repurchase_text_tri.most_common(20))\n",
    "trigram_dict.keys()"
   ]
  },
  {
   "cell_type": "code",
   "execution_count": 17,
   "metadata": {},
   "outputs": [],
   "source": [
    "# for filename in os.listdir(path):\n",
    "#     if filename.endswith('.html'):\n",
    "#        fname = os.path.join(path,filename)\n",
    "#        with open(fname, 'r', encoding=\"utf8\") as f:\n",
    "#            soup = BeautifulSoup(f.read(),'html.parser')\n",
    "#            soup.head.extract()\n",
    "#            soup = soup.get_text().strip()\n",
    "# util_text"
   ]
  },
  {
   "cell_type": "code",
   "execution_count": 18,
   "metadata": {},
   "outputs": [
    {
     "name": "stderr",
     "output_type": "stream",
     "text": [
      "/anaconda3/lib/python3.6/site-packages/ipykernel_launcher.py:6: DeprecationWarning: generator 'ngrams' raised StopIteration\n",
      "  \n"
     ]
    },
    {
     "data": {
      "text/plain": [
       "[('a total of', 4),\n",
       " ('for a total', 4),\n",
       " (', 2017 ,', 4),\n",
       " ('2017 , the', 4),\n",
       " (', the company', 4),\n",
       " ('the company had', 3),\n",
       " ('a total cost', 3),\n",
       " ('total cost of', 3),\n",
       " ('december 31 ,', 3),\n",
       " ('31 , 2017', 3),\n",
       " ('aggregate cost of', 3),\n",
       " ('company had repurchased', 2),\n",
       " ('repurchased a total', 2),\n",
       " ('as of december', 2),\n",
       " ('of december 31', 2),\n",
       " ('the company has', 2),\n",
       " (', through december', 2),\n",
       " ('an aggregate cost', 2),\n",
       " ('board of directors', 2),\n",
       " ('share repurchase program', 2)]"
      ]
     },
     "execution_count": 18,
     "metadata": {},
     "output_type": "execute_result"
    }
   ],
   "source": [
    "\n",
    "util_text = purchase[purchase[\"data_key_friendly_name\"] == 'Share Repurchase Utilization'].text\n",
    "\n",
    "def get_ngrams(text, n ):\n",
    "        n_grams = ngrams(word_tokenize(t.lower()), n)\n",
    "        return [ ' '.join(grams) for grams in n_grams]\n",
    "ngrams_text = []    \n",
    "for t in util_text:\n",
    "        ngrams_text.append(get_ngrams(t, 3 )) \n",
    "# bigrams_text\n",
    "list_ngrams = flatten(ngrams_text)\n",
    "english_stops = set(stopwords.words('english'))\n",
    "no_stops = [t for t in list_ngrams if t not in english_stops]\n",
    "util_text_tri = Counter(no_stops)  \n",
    "util_text_tri.most_common(20)"
   ]
  },
  {
   "cell_type": "code",
   "execution_count": 30,
   "metadata": {},
   "outputs": [
    {
     "data": {
      "text/plain": [
       "dict_keys(['a total of', 'for a total', ', 2017 ,', '2017 , the', ', the company', 'the company had', 'a total cost', 'total cost of', 'december 31 ,', '31 , 2017', 'aggregate cost of', 'company had repurchased', 'repurchased a total', 'as of december', 'of december 31', 'the company has', ', through december', 'an aggregate cost', 'board of directors', 'share repurchase program'])"
      ]
     },
     "execution_count": 30,
     "metadata": {},
     "output_type": "execute_result"
    }
   ],
   "source": [
    "trigram_dict_util = dict(util_text_tri.most_common(20))\n",
    "trigram_dict_util.keys()\n",
    "# trigram_dict_util.keys()"
   ]
  },
  {
   "cell_type": "code",
   "execution_count": 20,
   "metadata": {},
   "outputs": [
    {
     "name": "stderr",
     "output_type": "stream",
     "text": [
      "/anaconda3/lib/python3.6/site-packages/ipykernel_launcher.py:4: DeprecationWarning: generator 'ngrams' raised StopIteration\n",
      "  after removing the cwd from sys.path.\n"
     ]
    },
    {
     "data": {
      "text/plain": [
       "[('31 , 2017', 32),\n",
       " ('december 31 ,', 22),\n",
       " ('board of directors', 22),\n",
       " ('share repurchase program', 16),\n",
       " ('stock repurchase program', 14),\n",
       " (\"the company 's\", 13),\n",
       " ('remained available for', 11),\n",
       " ('our board of', 11),\n",
       " ('repurchase up to', 10),\n",
       " ('share repurchase authorization', 10),\n",
       " ('available under the', 10),\n",
       " ('to repurchase up', 9),\n",
       " ('repurchase under the', 8),\n",
       " ('under the program', 8),\n",
       " ('1 , 2017', 8),\n",
       " ('as of december', 7),\n",
       " ('for repurchase under', 7),\n",
       " ('of directors authorized', 7),\n",
       " ('30 , 2017', 6),\n",
       " ('available for repurchase', 6)]"
      ]
     },
     "execution_count": 20,
     "metadata": {},
     "output_type": "execute_result"
    }
   ],
   "source": [
    "intent_text = purchase[purchase[\"data_key_friendly_name\"] == 'Share Repurchase Intention'].text\n",
    "def get_ngrams(text, n ):\n",
    "        n_grams = ngrams(word_tokenize(t.lower()), n)\n",
    "        return [ ' '.join(grams) for grams in n_grams]\n",
    "ngrams_text = []    \n",
    "for t in intent_text:\n",
    "        ngrams_text.append(get_ngrams(t, 3 )) \n",
    "# bigrams_text\n",
    "list_ngrams = flatten(ngrams_text)\n",
    "english_stops = set(stopwords.words('english'))\n",
    "no_stops = [t for t in list_ngrams if t not in english_stops]\n",
    "intent_text_tri = Counter(no_stops)  \n",
    "intent_text_tri.most_common(20)"
   ]
  },
  {
   "cell_type": "code",
   "execution_count": 29,
   "metadata": {},
   "outputs": [
    {
     "data": {
      "text/plain": [
       "dict_keys(['31 , 2017', 'december 31 ,', 'board of directors', 'share repurchase program', 'stock repurchase program', \"the company 's\", 'remained available for', 'our board of', 'repurchase up to', 'share repurchase authorization', 'available under the', 'to repurchase up', 'repurchase under the', 'under the program', '1 , 2017', 'as of december', 'for repurchase under', 'of directors authorized', '30 , 2017', 'available for repurchase'])"
      ]
     },
     "execution_count": 29,
     "metadata": {},
     "output_type": "execute_result"
    }
   ],
   "source": [
    "trigram_dict_intent = dict(intent_text_tri.most_common(20))\n",
    "trigram_dict_intent.keys()"
   ]
  },
  {
   "cell_type": "code",
   "execution_count": 22,
   "metadata": {},
   "outputs": [
    {
     "name": "stderr",
     "output_type": "stream",
     "text": [
      "/anaconda3/lib/python3.6/site-packages/ipykernel_launcher.py:4: DeprecationWarning: generator 'ngrams' raised StopIteration\n",
      "  after removing the cwd from sys.path.\n"
     ]
    },
    {
     "data": {
      "text/plain": [
       "[('board of directors', 53),\n",
       " ('of directors authorized', 25),\n",
       " ('of up to', 24),\n",
       " (\"'s board of\", 19),\n",
       " ('authorized the repurchase', 18),\n",
       " ('the repurchase of', 18),\n",
       " (\"the company 's\", 16),\n",
       " ('the board of', 15),\n",
       " ('directors authorized the', 15),\n",
       " (\"company 's board\", 14),\n",
       " ('repurchase up to', 14),\n",
       " ('our board of', 14),\n",
       " ('repurchase of up', 12),\n",
       " ('to repurchase up', 12),\n",
       " ('share repurchase program', 12),\n",
       " ('of directors approved', 8),\n",
       " ('available for repurchase', 8),\n",
       " ('the purchase of', 8),\n",
       " ('for repurchase under', 7),\n",
       " ('repurchase under the', 7)]"
      ]
     },
     "execution_count": 22,
     "metadata": {},
     "output_type": "execute_result"
    }
   ],
   "source": [
    "unk_repurchase_text = purchase[purchase[\"data_key_friendly_name\"] == 'Unknown Share Repurchase Data'].text\n",
    "def get_ngrams(text, n ):\n",
    "        n_grams = ngrams(word_tokenize(t.lower()), n)\n",
    "        return [ ' '.join(grams) for grams in n_grams]\n",
    "ngrams_text = []    \n",
    "for t in unk_repurchase_text:\n",
    "        ngrams_text.append(get_ngrams(t, 3 )) \n",
    "# bigrams_text\n",
    "list_ngrams = flatten(ngrams_text)\n",
    "english_stops = set(stopwords.words('english'))\n",
    "no_stops = [t for t in list_ngrams if t not in english_stops]\n",
    "unk_text_tri = Counter(no_stops)  \n",
    "unk_text_tri.most_common(20)"
   ]
  },
  {
   "cell_type": "code",
   "execution_count": 28,
   "metadata": {},
   "outputs": [
    {
     "data": {
      "text/plain": [
       "dict_keys(['board of directors', 'of directors authorized', 'of up to', \"'s board of\", 'authorized the repurchase', 'the repurchase of', \"the company 's\", 'the board of', 'directors authorized the', \"company 's board\", 'repurchase up to', 'our board of', 'repurchase of up', 'to repurchase up', 'share repurchase program', 'of directors approved', 'available for repurchase', 'the purchase of', 'for repurchase under', 'repurchase under the'])"
      ]
     },
     "execution_count": 28,
     "metadata": {},
     "output_type": "execute_result"
    }
   ],
   "source": [
    "trigram_dict_unk = dict(unk_text_tri.most_common(20))\n",
    "trigram_dict_unk.keys()"
   ]
  },
  {
   "cell_type": "code",
   "execution_count": 36,
   "metadata": {},
   "outputs": [
    {
     "name": "stderr",
     "output_type": "stream",
     "text": [
      "/anaconda3/lib/python3.6/site-packages/ipykernel_launcher.py:6: DeprecationWarning: generator 'ngrams' raised StopIteration\n",
      "  \n"
     ]
    },
    {
     "data": {
      "text/plain": [
       "dict_keys(['a cost of', 'total cost of', 'at a cost', 'of common stock', 'a total cost', 'aggregate cost of', 'for a total', 'at a total', 'a total of', 'cost of shares', 'of shares repurchased', 'at an aggregate', 'an aggregate cost', 'in millions )', '( in millions', 'repurchase of common', 'december 31 ,', '31 , 2017', 'aggregate purchase price', 'cost of repurchases'])"
      ]
     },
     "execution_count": 36,
     "metadata": {},
     "output_type": "execute_result"
    }
   ],
   "source": [
    "#  Share Repurchase Authorization Date'\n",
    "\n",
    "amt_repurchase_text = purchase[purchase[\"data_key_friendly_name\"] == 'Amount Spent on Share Repurchases'].text\n",
    "def get_ngrams(text, n ):\n",
    "        n_grams = ngrams(word_tokenize(t.lower()), n)\n",
    "        return [ ' '.join(grams) for grams in n_grams]\n",
    "ngrams_text = []    \n",
    "for t in date_repurchase_text:\n",
    "        ngrams_text.append(get_ngrams(t, 3 )) \n",
    "# bigrams_text\n",
    "list_ngrams = flatten(ngrams_text)\n",
    "english_stops = set(stopwords.words('english'))\n",
    "no_stops = [t for t in list_ngrams if t not in english_stops]\n",
    "amt_text_tri = Counter(no_stops)  \n",
    "dict(amt_text_tri.most_common(20)).keys()\n"
   ]
  },
  {
   "cell_type": "code",
   "execution_count": 37,
   "metadata": {},
   "outputs": [
    {
     "name": "stderr",
     "output_type": "stream",
     "text": [
      "/anaconda3/lib/python3.6/site-packages/ipykernel_launcher.py:4: DeprecationWarning: generator 'ngrams' raised StopIteration\n",
      "  after removing the cwd from sys.path.\n"
     ]
    },
    {
     "data": {
      "text/plain": [
       "dict_keys(['a cost of', 'total cost of', 'at a cost', 'of common stock', 'a total cost', 'aggregate cost of', 'for a total', 'at a total', 'a total of', 'cost of shares', 'of shares repurchased', 'at an aggregate', 'an aggregate cost', 'in millions )', '( in millions', 'repurchase of common', 'december 31 ,', '31 , 2017', 'aggregate purchase price', 'cost of repurchases'])"
      ]
     },
     "execution_count": 37,
     "metadata": {},
     "output_type": "execute_result"
    }
   ],
   "source": [
    "count_repurchase_text = purchase[purchase[\"data_key_friendly_name\"] == 'Share Repurchase Count'].text\n",
    "def get_ngrams(text, n ):\n",
    "        n_grams = ngrams(word_tokenize(t.lower()), n)\n",
    "        return [ ' '.join(grams) for grams in n_grams]\n",
    "ngrams_text = []    \n",
    "for t in date_repurchase_text:\n",
    "        ngrams_text.append(get_ngrams(t, 3 )) \n",
    "# bigrams_text\n",
    "list_ngrams = flatten(ngrams_text)\n",
    "english_stops = set(stopwords.words('english'))\n",
    "no_stops = [t for t in list_ngrams if t not in english_stops]\n",
    "count_text_tri = Counter(no_stops)  \n",
    "dict(count_text_tri.most_common(20)).keys()"
   ]
  },
  {
   "cell_type": "code",
   "execution_count": null,
   "metadata": {},
   "outputs": [],
   "source": []
  },
  {
   "cell_type": "code",
   "execution_count": 25,
   "metadata": {},
   "outputs": [],
   "source": [
    "share_repurchase_auth = ['board of directors', 'of directors authoriz', 'of up to', 'our board of', 'the repurchase of', \"'s board of\", \n",
    " 'share repurchase program', \"the company 's\", 'the board of', 'of directors approved', 'authorized the repurchase',\n",
    " \"company 's board\", 'directors authorized a', 'repurchase up to', 'repurchase of up', 'directors authorized the', \n",
    " 'to repurchase up', 'directors approved a', 'stock repurchase program', 'authorized a new']"
   ]
  },
  {
   "cell_type": "code",
   "execution_count": null,
   "metadata": {},
   "outputs": [],
   "source": [
    "Unknown_Share_Repurchase_Data = ['board of director', 'of directors authoriz', 'of up to', \"'s board of\", 'authorized the repurchase', \n",
    " 'the repurchase of', \"the company 's\", 'the board of', 'directors authorized the', \"company 's board\",'repurchase up to', 'our board of', 'repurchase of up', 'to repurchase up', 'share repurchase program', \n",
    " 'of directors approv', 'available for repurchase', 'the purchase of', 'for repurchase under', 'repurchase under the']"
   ]
  },
  {
   "cell_type": "code",
   "execution_count": null,
   "metadata": {},
   "outputs": [],
   "source": [
    "Share_Repurchase_Intention = ['31 , 2017', 'december 31 ,', 'board of directors', 'share repurchase program', 'stock repurchase program', \n",
    " \"the company 's\", 'remained available for', 'our board of', 'repurchase up to', 'share repurchase authorization',\n",
    " 'available under the', 'to repurchase up', 'repurchase under the', 'under the program', '1 , 2017', \n",
    " 'as of december', 'for repurchase under', 'of directors authorized', '30 , 2017', 'available for repurchase']\n"
   ]
  },
  {
   "cell_type": "code",
   "execution_count": null,
   "metadata": {},
   "outputs": [],
   "source": [
    "Share_Repurchase_Utilization = ['a total of', 'for a total', ', 2017 ,', '2017 , the', ', the company', \n",
    "'the company had', 'a total cost', 'total cost of', 'december 31 ,', '31 , 2017', 'aggregate cost of', \n",
    "'company had repurchased', 'repurchased a total', 'as of december', 'of december 31', 'the company has', \n",
    "', through december', 'an aggregate cost', 'board of directors', 'share repurchase program']\n"
   ]
  },
  {
   "cell_type": "code",
   "execution_count": null,
   "metadata": {},
   "outputs": [],
   "source": [
    "Amount_Spent_on_Share_Repurchases = ['a cost of', 'total cost of', 'at a cost', 'of common stock', 'a total cost', 'aggregate cost of', \n",
    " 'for a total', 'at a total', 'a total of', 'cost of shares', 'of shares repurchased', 'at an aggregate', 'an aggregate cost', \n",
    " 'in millions )', '( in millions', 'repurchase of common', 'december 31 ,', '31 , 2017', 'aggregate purchase price', 'cost of repurchases']\n",
    "\n"
   ]
  },
  {
   "cell_type": "code",
   "execution_count": null,
   "metadata": {},
   "outputs": [],
   "source": [
    "Share_Repurchase_Count = ['a cost of', 'total cost of', 'at a cost', 'of common stock', 'a total cost',\n",
    "'aggregate cost of', 'for a total', 'at a total', 'a total of', 'cost of shares', 'of shares repurchased', \n",
    "'at an aggregate', 'an aggregate cost', 'in millions )', '( in millions', 'repurchase of common', 'december 31 ,', \n",
    "'31 , 2017', 'aggregate purchase price', 'cost of repurchases']\n"
   ]
  }
 ],
 "metadata": {
  "kernelspec": {
   "display_name": "Python 3",
   "language": "python",
   "name": "python3"
  },
  "language_info": {
   "codemirror_mode": {
    "name": "ipython",
    "version": 3
   },
   "file_extension": ".py",
   "mimetype": "text/x-python",
   "name": "python",
   "nbconvert_exporter": "python",
   "pygments_lexer": "ipython3",
   "version": "3.6.3"
  }
 },
 "nbformat": 4,
 "nbformat_minor": 2
}
